{
 "cells": [
  {
   "cell_type": "code",
   "execution_count": 3,
   "metadata": {},
   "outputs": [
    {
     "name": "stdout",
     "output_type": "stream",
     "text": [
      "\n",
      "Note: you may need to restart the kernel to use updated packages.\n"
     ]
    },
    {
     "name": "stderr",
     "output_type": "stream",
     "text": [
      "\n",
      "CommandNotFoundError: No command 'conda intall'.\n",
      "Did you mean 'conda install'?\n",
      "\n"
     ]
    }
   ],
   "source": [
    "conda intall plotly.graph_objects"
   ]
  },
  {
   "cell_type": "code",
   "execution_count": 4,
   "metadata": {
    "scrolled": true
   },
   "outputs": [
    {
     "name": "stdout",
     "output_type": "stream",
     "text": [
      "Collecting plotly.graph_objects\n",
      "Note: you may need to restart the kernel to use updated packages.\n"
     ]
    },
    {
     "name": "stderr",
     "output_type": "stream",
     "text": [
      "  Could not find a version that satisfies the requirement plotly.graph_objects (from versions: )\n",
      "No matching distribution found for plotly.graph_objects\n"
     ]
    }
   ],
   "source": [
    "pip install plotly.graph_objects"
   ]
  },
  {
   "cell_type": "code",
   "execution_count": 4,
   "metadata": {},
   "outputs": [],
   "source": [
    "import dash\n",
    "import dash_core_components as dcc\n",
    "import dash_html_components as html\n",
    "from dash.dependencies import Input, Output, State\n",
    "import pandas_datareader.data as web # requires v0.6.0 or later\n",
    "from datetime import datetime\n",
    "import pandas as pd\n",
    "import plotly.graph_objs as go\n",
    "\n",
    "\n",
    "app = dash.Dash()\n",
    "ciss = pd.read_csv('Predicted HF2.csv')\n",
    "hf = pd.read_csv('Actual HF.csv')\n",
    "hf['Date'] = pd.to_datetime(hf.Date)\n",
    "ciss['Date'] = pd.to_datetime(ciss.Date)\n",
    "#Index dataset by 'Date' column.\n",
    "ciss.set_index('Date', inplace=True)\n",
    "hf.set_index('Date', inplace=True)"
   ]
  },
  {
   "cell_type": "code",
   "execution_count": 5,
   "metadata": {
    "scrolled": true
   },
   "outputs": [
    {
     "name": "stdout",
     "output_type": "stream",
     "text": [
      " * Serving Flask app \"__main__\" (lazy loading)\n",
      " * Environment: production\n",
      "   WARNING: Do not use the development server in a production environment.\n",
      "   Use a production WSGI server instead.\n",
      " * Debug mode: off\n"
     ]
    },
    {
     "name": "stderr",
     "output_type": "stream",
     "text": [
      " * Running on http://127.0.0.1:1000/ (Press CTRL+C to quit)\n",
      "127.0.0.1 - - [31/Jul/2019 17:18:01] \"GET / HTTP/1.1\" 200 -\n",
      "127.0.0.1 - - [31/Jul/2019 17:18:01] \"GET /_dash-layout HTTP/1.1\" 200 -\n",
      "127.0.0.1 - - [31/Jul/2019 17:18:01] \"GET /_dash-dependencies HTTP/1.1\" 200 -\n",
      "127.0.0.1 - - [31/Jul/2019 17:18:01] \"GET /_favicon.ico HTTP/1.1\" 200 -\n",
      "[2019-07-31 17:18:01,715] ERROR in app: Exception on /_dash-update-component [POST]\n",
      "Traceback (most recent call last):\n",
      "  File \"C:\\Users\\yzhhu\\AppData\\Local\\Continuum\\anaconda3\\lib\\site-packages\\flask\\app.py\", line 2292, in wsgi_app\n",
      "    response = self.full_dispatch_request()\n",
      "  File \"C:\\Users\\yzhhu\\AppData\\Local\\Continuum\\anaconda3\\lib\\site-packages\\flask\\app.py\", line 1815, in full_dispatch_request\n",
      "    rv = self.handle_user_exception(e)\n",
      "  File \"C:\\Users\\yzhhu\\AppData\\Local\\Continuum\\anaconda3\\lib\\site-packages\\flask\\app.py\", line 1718, in handle_user_exception\n",
      "    reraise(exc_type, exc_value, tb)\n",
      "  File \"C:\\Users\\yzhhu\\AppData\\Local\\Continuum\\anaconda3\\lib\\site-packages\\flask\\_compat.py\", line 35, in reraise\n",
      "    raise value\n",
      "  File \"C:\\Users\\yzhhu\\AppData\\Local\\Continuum\\anaconda3\\lib\\site-packages\\flask\\app.py\", line 1813, in full_dispatch_request\n",
      "    rv = self.dispatch_request()\n",
      "  File \"C:\\Users\\yzhhu\\AppData\\Local\\Continuum\\anaconda3\\lib\\site-packages\\flask\\app.py\", line 1799, in dispatch_request\n",
      "    return self.view_functions[rule.endpoint](**req.view_args)\n",
      "  File \"C:\\Users\\yzhhu\\AppData\\Local\\Continuum\\anaconda3\\lib\\site-packages\\dash\\dash.py\", line 1152, in dispatch\n",
      "    response.set_data(self.callback_map[output]['callback'](*args))\n",
      "  File \"C:\\Users\\yzhhu\\AppData\\Local\\Continuum\\anaconda3\\lib\\site-packages\\dash\\dash.py\", line 1038, in add_context\n",
      "    output_value = func(*args, **kwargs)\n",
      "  File \"<ipython-input-5-36519eef9dc9>\", line 88, in update_graph\n",
      "    traces0.append({'x':ciss2.index, 'y': ciss2[stock_ticker], 'name': 'Predicted'})\n",
      "  File \"C:\\Users\\yzhhu\\AppData\\Local\\Continuum\\anaconda3\\lib\\site-packages\\pandas\\core\\frame.py\", line 2934, in __getitem__\n",
      "    raise_missing=True)\n",
      "  File \"C:\\Users\\yzhhu\\AppData\\Local\\Continuum\\anaconda3\\lib\\site-packages\\pandas\\core\\indexing.py\", line 1354, in _convert_to_indexer\n",
      "    return self._get_listlike_indexer(obj, axis, **kwargs)[1]\n",
      "  File \"C:\\Users\\yzhhu\\AppData\\Local\\Continuum\\anaconda3\\lib\\site-packages\\pandas\\core\\indexing.py\", line 1161, in _get_listlike_indexer\n",
      "    raise_missing=raise_missing)\n",
      "  File \"C:\\Users\\yzhhu\\AppData\\Local\\Continuum\\anaconda3\\lib\\site-packages\\pandas\\core\\indexing.py\", line 1246, in _validate_read_indexer\n",
      "    key=key, axis=self.obj._get_axis_name(axis)))\n",
      "KeyError: \"None of [Index(['SPY'], dtype='object')] are in the [columns]\"\n",
      "127.0.0.1 - - [31/Jul/2019 17:18:01] \"POST /_dash-update-component HTTP/1.1\" 500 -\n",
      "127.0.0.1 - - [31/Jul/2019 17:18:09] \"POST /_dash-update-component HTTP/1.1\" 200 -\n",
      "127.0.0.1 - - [31/Jul/2019 17:19:30] \"POST /_dash-update-component HTTP/1.1\" 200 -\n",
      "127.0.0.1 - - [31/Jul/2019 17:19:39] \"POST /_dash-update-component HTTP/1.1\" 200 -\n",
      "127.0.0.1 - - [31/Jul/2019 17:20:40] \"POST /_dash-update-component HTTP/1.1\" 200 -\n",
      "127.0.0.1 - - [31/Jul/2019 17:21:02] \"POST /_dash-update-component HTTP/1.1\" 200 -\n",
      "127.0.0.1 - - [31/Jul/2019 17:21:15] \"POST /_dash-update-component HTTP/1.1\" 200 -\n"
     ]
    }
   ],
   "source": [
    "#options = [{'label': i, 'value': i} for i in ciss.columns]\n",
    "#options.append({'label':'{}'.format('SPY'), 'value':'SPY'})\n",
    "#[{'label': i, 'value': i} for i in ciss.columns]\n",
    "app.layout = html.Div([\n",
    "    html.H1('Comparison'),\n",
    "    html.Div([\n",
    "        html.H3('Select Predicted HF:', style={'paddingRight':'30px'}),\n",
    "        # replace dcc.Input with dcc.Options, set options=options\n",
    "        dcc.Dropdown(\n",
    "            id='my_ticker_symbol',\n",
    "            options = [{'label': i, 'value': i} for i in ciss.columns],\n",
    "            value=['SPY'],\n",
    "            #multi=True\n",
    "        )\n",
    "    # widen the Div to fit multiple inputs\n",
    "    ], style={'display':'inline-block', 'verticalAlign':'top', 'width':'30%'}),\n",
    "    \n",
    "    html.Div([\n",
    "    html.H3('Select Actual HF:', style={'paddingRight':'30px'}),\n",
    "        # replace dcc.Input with dcc.Options, set options=options\n",
    "        dcc.Dropdown(\n",
    "            id='my_hf_symbol',\n",
    "            options=[{'label': i, 'value': i} for i in hf.columns],\n",
    "            value=['FX'],\n",
    "            #multi=True\n",
    "        )\n",
    "    # widen the Div to fit multiple inputs\n",
    "    ], style={'display':'inline-block', 'verticalAlign':'top', 'width':'30%'}),\n",
    "    \n",
    "    html.Div([\n",
    "        html.H3('Select start and end dates:'),\n",
    "        dcc.DatePickerRange(\n",
    "            id='my_date_picker',\n",
    "            min_date_allowed=datetime(2011, 1, 1),\n",
    "            max_date_allowed=datetime(2019, 1, 2),\n",
    "            start_date=str(datetime(2011, 1, 1)),\n",
    "            end_date=str(datetime(2019, 1, 2))\n",
    "        )\n",
    "    ], style={'display':'inline-block'}),\n",
    "    html.Div([\n",
    "        html.Button(\n",
    "            id='submit-button',\n",
    "            n_clicks=0,\n",
    "            children='Submit',\n",
    "            style={'fontSize':24, 'marginLeft':'30px'}\n",
    "        ),\n",
    "    ], style={'display':'inline-block'}),\n",
    "    dcc.Graph(\n",
    "        id='my_graph',\n",
    "        figure={\n",
    "            'data': [\n",
    "                {'x': [1,2], 'y':[3,1], 'name':'Predicted'},\n",
    "                {'x': [1,2], 'y':[3,1], 'name' : 'Actual'},\n",
    "            ],\n",
    "            'layout':go.Layout(\n",
    "                title = 'Correlation:')\n",
    "            \n",
    "        }\n",
    "    )\n",
    "])\n",
    "\n",
    "@app.callback(\n",
    "    Output('my_graph', 'figure'),\n",
    "    [Input('submit-button', 'n_clicks')],\n",
    "    [State('my_ticker_symbol', 'value'),\n",
    "     State('my_hf_symbol', 'value'),\n",
    "    State('my_date_picker', 'start_date'),\n",
    "    State('my_date_picker', 'end_date')])\n",
    "def update_graph(n_clicks, stock_ticker, HF_ticker,start_date, end_date):\n",
    "    # since stock_ticker is now a list of symbols, create a list of traces\n",
    "    traces0 = []\n",
    "    traces1 = []\n",
    "    #Update figure by indexing datetime strings.\n",
    "    start_date = datetime.strptime(start_date.split(' ')[0], '%Y-%m-%d')\n",
    "    end_date = datetime.strptime(end_date.split(' ')[0], '%Y-%m-%d')    \n",
    "    start = start_date.strftime('%Y-%m-%d')\n",
    "    end = end_date.strftime('%Y-%m-%d')\n",
    "    #Filter data by selected datetime\n",
    "    ciss2 = ciss.loc[start:end]\n",
    "    hf2=hf.loc[start:end]\n",
    "    #traces.append({'x':ciss2.index, 'y': ciss2[stock_ticker]})\n",
    "#     fig = {\n",
    "#         # set data equal to traces\n",
    "#         'data': traces,\n",
    "#         'layout': {'title':'Correlation:'}\n",
    "#     }\n",
    "#dt = datetime.strptime(\"2013-1-25\", '%Y-%m-%d')\n",
    "    traces0.append({'x':ciss2.index, 'y': ciss2[stock_ticker], 'name': 'Predicted'})\n",
    "    traces1.append({'x':hf2.index, 'y': hf2[HF_ticker], 'name' : 'Actual'})\n",
    "    fig = {\n",
    "        # set data equal to traces\n",
    "        'data': traces0+traces1,\n",
    "        'layout': {'title':'Correlation:'}\n",
    "    }\n",
    "    \n",
    "    return fig\n",
    "    \n",
    "    #fig.show()\n",
    "\n",
    "if __name__ == '__main__':\n",
    "    app.run_server(1000)"
   ]
  },
  {
   "cell_type": "code",
   "execution_count": null,
   "metadata": {},
   "outputs": [],
   "source": [
    "import pandas as pd\n",
    "predicted = pd.read_csv('Actual HF.csv')\n",
    "predicted.head()"
   ]
  },
  {
   "cell_type": "code",
   "execution_count": null,
   "metadata": {},
   "outputs": [],
   "source": []
  }
 ],
 "metadata": {
  "kernelspec": {
   "display_name": "Python 3",
   "language": "python",
   "name": "python3"
  },
  "language_info": {
   "codemirror_mode": {
    "name": "ipython",
    "version": 3
   },
   "file_extension": ".py",
   "mimetype": "text/x-python",
   "name": "python",
   "nbconvert_exporter": "python",
   "pygments_lexer": "ipython3",
   "version": "3.7.3"
  }
 },
 "nbformat": 4,
 "nbformat_minor": 2
}
