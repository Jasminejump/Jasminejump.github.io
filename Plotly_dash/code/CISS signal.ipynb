{
 "cells": [
  {
   "cell_type": "code",
   "execution_count": 4,
   "metadata": {
    "collapsed": true
   },
   "outputs": [
    {
     "name": "stdout",
     "output_type": "stream",
     "text": [
      " Volume in drive C is Windows\n",
      " Volume Serial Number is 0CF9-4541\n",
      "\n",
      " Directory of C:\\Users\\yzhhu\\Desktop\\G.A.I_summer\\ploty\n",
      "\n",
      "2019/07/23  16:11    <DIR>          .\n",
      "2019/07/23  16:11    <DIR>          ..\n",
      "2019/07/23  16:11    <DIR>          .ipynb_checkpoints\n",
      "2019/07/23  16:11             6,297 CISS visualization(4).ipynb\n",
      "2019/07/23  14:42            30,907 CISS_signal_data(1).csv\n",
      "2019/07/23  16:09            11,433 ETF Visualization.ipynb\n",
      "2019/07/23  14:41            16,626 etf_from_2011(1).csv\n",
      "2019/07/12  10:41    <DIR>          general\n",
      "2019/07/22  11:28                72 gifly.ipynb\n",
      "2019/07/22  11:29                 0 gifly.py\n",
      "2019/07/23  15:03           639,632 Implementation(1).ipynb\n",
      "2019/07/22  21:03    <DIR>          ipynb\n",
      "2019/07/23  15:57            11,807 NYC- wifi-mapbox.ipynb\n",
      "2019/07/12  14:15         1,462,796 nyc-wi-fi-hotspot-locations.csv\n",
      "2019/07/18  14:00           131,646 practice_amazon.csv.ipynb\n",
      "2019/07/22  17:08            13,689 rotation.ipynb\n",
      "2019/07/18  23:51    <DIR>          Stock\n",
      "2019/07/09  17:21        29,903,689 Worldbank_Climate.csv.zip\n",
      "              12 File(s)     32,228,594 bytes\n",
      "               6 Dir(s)  354,079,981,568 bytes free\n"
     ]
    }
   ],
   "source": [
    "%ls"
   ]
  },
  {
   "cell_type": "code",
   "execution_count": 1,
   "metadata": {},
   "outputs": [],
   "source": [
    "import dash\n",
    "import dash_core_components as dcc\n",
    "import dash_html_components as html\n",
    "from dash.dependencies import Input, Output, State\n",
    "import pandas_datareader.data as web # requires v0.6.0 or later\n",
    "from datetime import datetime\n",
    "import pandas as pd\n",
    "\n",
    "app = dash.Dash()\n",
    "ciss = pd.read_csv('CISS_signal_data(1).csv')\n",
    "#Index dataset by 'Date' column.\n",
    "ciss.set_index('Date', inplace=True)\n"
   ]
  },
  {
   "cell_type": "code",
   "execution_count": 2,
   "metadata": {},
   "outputs": [
    {
     "name": "stdout",
     "output_type": "stream",
     "text": [
      " * Serving Flask app \"__main__\" (lazy loading)\n",
      " * Environment: production\n",
      "   WARNING: Do not use the development server in a production environment.\n",
      "   Use a production WSGI server instead.\n",
      " * Debug mode: off\n"
     ]
    },
    {
     "name": "stderr",
     "output_type": "stream",
     "text": [
      " * Running on http://127.0.0.1:8050/ (Press CTRL+C to quit)\n",
      "127.0.0.1 - - [28/Aug/2019 12:41:01] \"GET / HTTP/1.1\" 200 -\n",
      "127.0.0.1 - - [28/Aug/2019 12:41:01] \"GET /_dash-layout HTTP/1.1\" 200 -\n",
      "127.0.0.1 - - [28/Aug/2019 12:41:01] \"GET /_dash-dependencies HTTP/1.1\" 200 -\n",
      "127.0.0.1 - - [28/Aug/2019 12:41:01] \"POST /_dash-update-component HTTP/1.1\" 200 -\n",
      "127.0.0.1 - - [28/Aug/2019 12:41:21] \"POST /_dash-update-component HTTP/1.1\" 200 -\n"
     ]
    }
   ],
   "source": [
    "options = []\n",
    "options.append({'label':'{}'.format('CISS'), 'value':'CISS'})\n",
    "\n",
    "app.layout = html.Div([\n",
    "    html.H1('CISS historical data'),\n",
    "    html.Div([\n",
    "        html.H3('Select historical data:', style={'paddingRight':'30px'}),\n",
    "        # replace dcc.Input with dcc.Options, set options=options\n",
    "        dcc.Dropdown(\n",
    "            id='my_ticker_symbol',\n",
    "            options=options,\n",
    "            value=['CISS'],\n",
    "            multi=True\n",
    "        )\n",
    "    # widen the Div to fit multiple inputs\n",
    "    ], style={'display':'inline-block', 'verticalAlign':'top', 'width':'30%'}),\n",
    "    html.Div([\n",
    "        html.H3('Select start and end dates:'),\n",
    "        dcc.DatePickerRange(\n",
    "            id='my_date_picker',\n",
    "            min_date_allowed=datetime(1999, 1, 8),\n",
    "            max_date_allowed=datetime.today(),\n",
    "            start_date=str(datetime(2003,12,19)),\n",
    "            end_date=str(datetime(2018,12,28))\n",
    "        )\n",
    "    ], style={'display':'inline-block'}),\n",
    "    html.Div([\n",
    "        html.Button(\n",
    "            id='submit-button',\n",
    "            n_clicks=0,\n",
    "            children='Submit',\n",
    "            style={'fontSize':24, 'marginLeft':'30px'}\n",
    "        ),\n",
    "    ], style={'display':'inline-block'}),\n",
    "    dcc.Graph(\n",
    "        id='my_graph',\n",
    "        figure={\n",
    "            'data': [\n",
    "                {'x': [1,2], 'y':[3,1]}\n",
    "            ]\n",
    "        }\n",
    "    )\n",
    "])\n",
    "@app.callback(\n",
    "    Output('my_graph', 'figure'),\n",
    "    [Input('submit-button', 'n_clicks')],\n",
    "    [State('my_ticker_symbol', 'value'),\n",
    "    State('my_date_picker', 'start_date'),\n",
    "    State('my_date_picker', 'end_date')])\n",
    "def update_graph(n_clicks, stock_ticker, start_date, end_date):\n",
    "    # since stock_ticker is now a list of symbols, create a list of traces\n",
    "    traces = []\n",
    "    #Update figure by indexing datetime strings.\n",
    "    start_date = datetime.strptime(start_date.split(' ')[0], '%Y-%m-%d')\n",
    "    end_date = datetime.strptime(end_date.split(' ')[0], '%Y-%m-%d')    \n",
    "    start = start_date.strftime('%Y-%m-%d')\n",
    "    end = end_date.strftime('%Y-%m-%d')\n",
    "    #Filter data by selected datetime\n",
    "    ciss2 = ciss.loc[start:end]\n",
    "    traces.append({'x':ciss2.index, 'y': ciss2['Signal']})\n",
    "    fig = {\n",
    "        # set data equal to traces\n",
    "        'data': traces,\n",
    "        'layout': {'title':'Trading Decisions:'}\n",
    "    }\n",
    "    return fig\n",
    "\n",
    "if __name__ == '__main__':\n",
    "    app.run_server()"
   ]
  },
  {
   "cell_type": "code",
   "execution_count": null,
   "metadata": {},
   "outputs": [],
   "source": [
    "start_date=datetime(2003,12,19)\n",
    "end_date=datetime(2018,12,28)\n",
    "start = start_date.strftime('%Y/%m/%d')\n",
    "end = end_date.strftime('%Y/%m/%d')\n",
    "#nsdq.loc['2014/04/11']\n",
    "nsdq.index[-2]\n",
    "nsdq.loc['1999/1/10']\n",
    "nsdq2 = nsdq.loc[start:end]\n",
    "nsdq.loc[start:end].head()"
   ]
  },
  {
   "cell_type": "code",
   "execution_count": null,
   "metadata": {},
   "outputs": [],
   "source": [
    "start_date=datetime(2018,10,12)\n",
    "end_date=datetime(2018,12,28)\n",
    "start = start_date.strftime('%Y/%m/%d')\n",
    "end = end_date.strftime('%Y/%m/%d')\n",
    "nsdq2 = nsdq.loc[start:end]"
   ]
  },
  {
   "cell_type": "code",
   "execution_count": null,
   "metadata": {},
   "outputs": [],
   "source": [
    "nsdq2.index"
   ]
  },
  {
   "cell_type": "code",
   "execution_count": null,
   "metadata": {},
   "outputs": [],
   "source": [
    "datetime(2018, 1, 1)"
   ]
  },
  {
   "cell_type": "code",
   "execution_count": null,
   "metadata": {},
   "outputs": [],
   "source": [
    "a = datetime.strptime('1995-1-1', '%Y-%m-%d')\n",
    "a"
   ]
  },
  {
   "cell_type": "code",
   "execution_count": null,
   "metadata": {},
   "outputs": [],
   "source": [
    "start_date"
   ]
  }
 ],
 "metadata": {
  "kernelspec": {
   "display_name": "Python 3",
   "language": "python",
   "name": "python3"
  },
  "language_info": {
   "codemirror_mode": {
    "name": "ipython",
    "version": 3
   },
   "file_extension": ".py",
   "mimetype": "text/x-python",
   "name": "python",
   "nbconvert_exporter": "python",
   "pygments_lexer": "ipython3",
   "version": "3.7.3"
  }
 },
 "nbformat": 4,
 "nbformat_minor": 2
}
